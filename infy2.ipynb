{
 "cells": [
  {
   "cell_type": "markdown",
   "metadata": {},
   "source": [
    "# Importing Modules"
   ]
  },
  {
   "cell_type": "code",
   "execution_count": 42,
   "metadata": {},
   "outputs": [],
   "source": [
    "import requests\n",
    "from bs4 import BeautifulSoup\n",
    "import csv\n",
    "import time"
   ]
  },
  {
   "cell_type": "markdown",
   "metadata": {},
   "source": [
    "# Initialize CSV file"
   ]
  },
  {
   "cell_type": "code",
   "execution_count": 43,
   "metadata": {},
   "outputs": [],
   "source": [
    "with open('deals.csv', mode='w', newline='', encoding='utf-8') as file:\n",
    "    writer = csv.writer(file)\n",
    "    writer.writerow([\"Title\", \"Price\", \"Special Price\", \"Link\", \"Site\"])"
   ]
  },
  {
   "cell_type": "markdown",
   "metadata": {},
   "source": [
    "# Deal Scrapper"
   ]
  },
  {
   "cell_type": "code",
   "execution_count": 44,
   "metadata": {},
   "outputs": [],
   "source": [
    "def scrape_page(page_number):\n",
    "    url = f'https://dealsheaven.in?page={page_number}'\n",
    "    response = requests.get(url)\n",
    "    soup = BeautifulSoup(response.content, 'html.parser')\n",
    "\n",
    "    # Find all deal containers\n",
    "    deals = soup.find_all('div', class_='deatls-inner')\n",
    "    # Loop through each deal container\n",
    "    for deal in deals:\n",
    "        try:\n",
    "            # Get title\n",
    "            title = deal.find('h3').text.strip()\n",
    "\n",
    "            # Get price\n",
    "            price = deal.find('p', class_='price').text.strip()\n",
    "\n",
    "            # Get special price if available\n",
    "            special_price_tag = deal.find('p', class_='spacail-price')\n",
    "            special_price = special_price_tag.text.strip() if special_price_tag else \"N/A\"\n",
    "\n",
    "            # Get link\n",
    "            link_tag = deal.find('a', href=True)\n",
    "            link = link_tag['href'] if link_tag else \"N/A\"\n",
    "\n",
    "            # Get site\n",
    "            site = deal.find('div', class_='esite-logo').find('img')['title'] if deal.find('div', class_='esite-logo') else None\n",
    "            # Write data to CSV\n",
    "            # img_tag = deal.find('img', src=True)\n",
    "            with open('deals.csv', mode='a', newline='', encoding='utf-8') as file:\n",
    "                writer = csv.writer(file)\n",
    "                writer.writerow([title, price, special_price, link, site])\n",
    "\n",
    "        except Exception as e:\n",
    "            print(f\"Error processing deal: {e}\")"
   ]
  },
  {
   "cell_type": "markdown",
   "metadata": {},
   "source": [
    "# Scrapping Pages"
   ]
  },
  {
   "cell_type": "code",
   "execution_count": 45,
   "metadata": {},
   "outputs": [
    {
     "name": "stdout",
     "output_type": "stream",
     "text": [
      "Scraping page 1\n",
      "Scraping page 2\n",
      "Scraping page 3\n",
      "Scraping page 4\n",
      "Scraping page 5\n"
     ]
    }
   ],
   "source": [
    "for page in range(1, 6):  # Set your page range as needed\n",
    "    print(f\"Scraping page {page}\")\n",
    "    scrape_page(page)\n",
    "    time.sleep(1)"
   ]
  },
  {
   "cell_type": "code",
   "execution_count": 46,
   "metadata": {},
   "outputs": [
    {
     "name": "stdout",
     "output_type": "stream",
     "text": [
      "Scraping completed. Data saved to deals.csv.\n"
     ]
    }
   ],
   "source": [
    "print(\"Scraping completed. Data saved to deals.csv.\")"
   ]
  }
 ],
 "metadata": {
  "kernelspec": {
   "display_name": "Python 3",
   "language": "python",
   "name": "python3"
  },
  "language_info": {
   "codemirror_mode": {
    "name": "ipython",
    "version": 3
   },
   "file_extension": ".py",
   "mimetype": "text/x-python",
   "name": "python",
   "nbconvert_exporter": "python",
   "pygments_lexer": "ipython3",
   "version": "3.12.6"
  }
 },
 "nbformat": 4,
 "nbformat_minor": 2
}
